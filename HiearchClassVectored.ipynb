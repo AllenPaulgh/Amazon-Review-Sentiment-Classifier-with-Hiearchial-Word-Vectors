{
 "cells": [
  {
   "cell_type": "markdown",
   "metadata": {},
   "source": [
    "# imports"
   ]
  },
  {
   "cell_type": "code",
   "execution_count": null,
   "metadata": {},
   "outputs": [],
   "source": [
    "import spacy\n",
    "import codecs\n",
    "import pandas as pd\n",
    "import string\n",
    "import numpy as np\n",
    "import re\n",
    "from collections import Counter\n",
    "import random\n",
    "nlp = spacy.load('en_core_web_sm')\n",
    "#scikitlearn imports\n",
    "from sklearn.feature_extraction.text import CountVectorizer\n",
    "from sklearn.pipeline import Pipeline \n",
    "from sklearn.linear_model import LogisticRegression\n",
    "from sklearn.model_selection import train_test_split \n",
    "from sklearn.metrics import classification_report"
   ]
  },
  {
   "cell_type": "markdown",
   "metadata": {},
   "source": [
    "# HelperFunctions"
   ]
  },
  {
   "cell_type": "code",
   "execution_count": null,
   "metadata": {},
   "outputs": [],
   "source": [
    "class spacy_ops_en(object):\n",
    "    def __init__(self):\n",
    "        self.nlp = spacy.load('en_core_web_sm')\n",
    "    def __call__(self, some_text):\n",
    "        doc = self.nlp(some_text)\n",
    "        return [token.text for token in doc]\n",
    "    \n"
   ]
  },
  {
   "cell_type": "markdown",
   "metadata": {},
   "source": [
    "# Model"
   ]
  },
  {
   "cell_type": "code",
   "execution_count": null,
   "metadata": {},
   "outputs": [],
   "source": [
    "text_clf = Pipeline([   \n",
    "    ('clf', LogisticRegression(\n",
    "        random_state = 44,\n",
    "        solver = 'sag',\n",
    "        multi_class= 'ovr',\n",
    "        max_iter=10000\n",
    "    ))\n",
    "    \n",
    "   \n",
    "])\n",
    "\n"
   ]
  },
  {
   "cell_type": "markdown",
   "metadata": {},
   "source": [
    "# Data"
   ]
  },
  {
   "cell_type": "code",
   "execution_count": null,
   "metadata": {},
   "outputs": [],
   "source": [
    "corpus_df = pd.read_csv(\"train_40k.csv\", usecols = [\"Score\",\"Text\"])\n",
    "#corpus_df.isna()\n",
    "print(corpus_df.shape)\n",
    "corpus_df.head()\n",
    "\n"
   ]
  },
  {
   "cell_type": "code",
   "execution_count": null,
   "metadata": {},
   "outputs": [],
   "source": [
    "corpus_df = corpus_df[['Text','Score']].dropna()\n",
    "print(corpus_df.shape)"
   ]
  },
  {
   "cell_type": "code",
   "execution_count": null,
   "metadata": {},
   "outputs": [],
   "source": [
    "corpus_df.Score[corpus_df.Score<=3]=0\n",
    "corpus_df.Score[corpus_df.Score>=4]=1\n",
    "ax=corpus_df.Score.value_counts().plot(kind='bar')\n",
    "fig = ax.get_figure()\n",
    "fig.savefig(\"score_boolean.png\");"
   ]
  },
  {
   "cell_type": "code",
   "execution_count": null,
   "metadata": {},
   "outputs": [],
   "source": [
    "\n",
    "train_pos_df=corpus_df[corpus_df['Score']==1]\n",
    "train_neg_df=corpus_df[corpus_df['Score']==0]\n",
    "\n",
    "print(train_pos_df.shape, train_neg_df.shape)\n",
    "\n",
    "print(train_neg_df)"
   ]
  },
  {
   "cell_type": "markdown",
   "metadata": {},
   "source": [
    "# Training DF"
   ]
  },
  {
   "cell_type": "code",
   "execution_count": null,
   "metadata": {},
   "outputs": [],
   "source": [
    "pos_df = train_pos_df[0:8000]\n",
    "neg_df = train_neg_df[0:8000]\n",
    "pos_df.reset_index(drop = True, inplace = True)\n",
    "neg_df.reset_index(drop = True, inplace = True)\n",
    "\n",
    "train_df=pd.concat([neg_df,pos_df])\n",
    "# train_df.shape\n",
    "# train_df.head()\n",
    "# train_df.tail()"
   ]
  },
  {
   "cell_type": "code",
   "execution_count": null,
   "metadata": {},
   "outputs": [],
   "source": [
    "neg_df"
   ]
  },
  {
   "cell_type": "markdown",
   "metadata": {},
   "source": [
    "# Test DF"
   ]
  },
  {
   "cell_type": "code",
   "execution_count": null,
   "metadata": {},
   "outputs": [],
   "source": [
    "test_pos_df = train_pos_df[8000:14000]\n",
    "test_neg_df = train_neg_df[8000:9757]\n",
    "\n",
    "test_pos_df.reset_index(drop=True, inplace = True)\n",
    "test_neg_df.reset_index(drop=True, inplace = True)\n",
    "test_df=pd.concat([neg_df,pos_df])\n"
   ]
  },
  {
   "cell_type": "code",
   "execution_count": null,
   "metadata": {},
   "outputs": [],
   "source": [
    "test_df.tail()"
   ]
  },
  {
   "cell_type": "code",
   "execution_count": null,
   "metadata": {},
   "outputs": [],
   "source": [
    "#extracting columns for training\n",
    "X = list(train_df['Text'])\n",
    "Y = list(train_df['Score'])\n",
    "X_test = list(test_df['Text'])\n",
    "Y_test = list(test_df['Score'])\n"
   ]
  },
  {
   "cell_type": "code",
   "execution_count": null,
   "metadata": {},
   "outputs": [],
   "source": [
    "X_train, X_val, Y_train, Y_val  = train_test_split(X,Y, test_size=0.25, stratify=Y, random_state=45, shuffle = True)\n",
    "#vectorization\n",
    "X_train = np.array([nlp(training_text).vector for training_text in X_train])\n",
    "print(\"Train VECTORIZED!\")\n",
    "X_val = np.array([nlp(val_text).vector for val_text in X_val])\n",
    "print(\"val VECTORIZED!\")\n",
    "X_test = np.array([nlp(test_text).vector for test_text in X_test])\n",
    "print(\"Test VECTORIZED!\")"
   ]
  },
  {
   "cell_type": "code",
   "execution_count": null,
   "metadata": {},
   "outputs": [],
   "source": [
    "print(X_train[0])\n",
    "print(Y_train[0])\n",
    "\n",
    "\n"
   ]
  },
  {
   "cell_type": "markdown",
   "metadata": {},
   "source": [
    "# Training"
   ]
  },
  {
   "cell_type": "code",
   "execution_count": null,
   "metadata": {},
   "outputs": [],
   "source": [
    "text_clf.fit(X_train,Y_train)"
   ]
  },
  {
   "cell_type": "code",
   "execution_count": null,
   "metadata": {},
   "outputs": [],
   "source": [
    "predictions = text_clf.predict(X_val)\n"
   ]
  },
  {
   "cell_type": "code",
   "execution_count": null,
   "metadata": {},
   "outputs": [],
   "source": [
    "\n",
    "print(classification_report(y_true=Y_val, y_pred=predictions))"
   ]
  }
 ],
 "metadata": {
  "kernelspec": {
   "display_name": "Python 3",
   "language": "python",
   "name": "python3"
  },
  "language_info": {
   "codemirror_mode": {
    "name": "ipython",
    "version": 3
   },
   "file_extension": ".py",
   "mimetype": "text/x-python",
   "name": "python",
   "nbconvert_exporter": "python",
   "pygments_lexer": "ipython3",
   "version": "3.7.3"
  }
 },
 "nbformat": 4,
 "nbformat_minor": 4
}
